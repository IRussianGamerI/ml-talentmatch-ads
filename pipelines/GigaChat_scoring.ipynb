{
 "cells": [
  {
   "cell_type": "code",
   "execution_count": 1,
   "id": "initial_id",
   "metadata": {
    "collapsed": true,
    "ExecuteTime": {
     "end_time": "2024-02-29T16:32:59.710558Z",
     "start_time": "2024-02-29T16:32:59.301465Z"
    }
   },
   "outputs": [
    {
     "name": "stderr",
     "output_type": "stream",
     "text": [
      "/Users/l.barabanshchikov/PycharmProjects/pythonProject/venv/lib/python3.9/site-packages/urllib3/__init__.py:35: NotOpenSSLWarning: urllib3 v2 only supports OpenSSL 1.1.1+, currently the 'ssl' module is compiled with 'LibreSSL 2.8.3'. See: https://github.com/urllib3/urllib3/issues/3020\n",
      "  warnings.warn(\n"
     ]
    }
   ],
   "source": [
    "import json\n",
    "\n",
    "import pandas as pd\n",
    "from langchain_core.messages import HumanMessage, SystemMessage\n",
    "from langchain_community.chat_models import GigaChat\n",
    "\n",
    "JSON_PATH = 'case_2_reference_without_resume_sorted.json'\n",
    "TOKEN_PATH = 'giga_token.json'"
   ]
  },
  {
   "cell_type": "code",
   "execution_count": 2,
   "outputs": [],
   "source": [
    "with open(TOKEN_PATH, 'r') as f:\n",
    "    token = json.load(f)['token']"
   ],
   "metadata": {
    "collapsed": false,
    "ExecuteTime": {
     "end_time": "2024-02-29T16:33:32.552406Z",
     "start_time": "2024-02-29T16:33:32.542090Z"
    }
   },
   "id": "698a4315eda991ca"
  },
  {
   "cell_type": "code",
   "execution_count": 3,
   "outputs": [],
   "source": [
    "chat = GigaChat(credentials=token, verify_ssl_certs=False)"
   ],
   "metadata": {
    "collapsed": false,
    "ExecuteTime": {
     "end_time": "2024-02-29T16:34:03.996822Z",
     "start_time": "2024-02-29T16:34:03.912015Z"
    }
   },
   "id": "40b4a65e7a8b466"
  },
  {
   "cell_type": "code",
   "execution_count": 4,
   "outputs": [],
   "source": [
    "experienceItem_ = \"\"\"Период работы {starts} - {ends} на позиции {position}.\n",
    "Описывает свою деятельность как: ```{description}```\"\"\""
   ],
   "metadata": {
    "collapsed": false,
    "ExecuteTime": {
     "end_time": "2024-02-29T16:34:25.835008Z",
     "start_time": "2024-02-29T16:34:25.824720Z"
    }
   },
   "id": "71336361fe2df26f"
  },
  {
   "cell_type": "code",
   "execution_count": 5,
   "outputs": [],
   "source": [
    "with open(JSON_PATH) as f:\n",
    "    data = json.load(f)"
   ],
   "metadata": {
    "collapsed": false,
    "ExecuteTime": {
     "end_time": "2024-02-29T16:34:35.558317Z",
     "start_time": "2024-02-29T16:34:35.546594Z"
    }
   },
   "id": "81454b7afe6e5d7d"
  },
  {
   "cell_type": "code",
   "execution_count": 6,
   "outputs": [
    {
     "name": "stderr",
     "output_type": "stream",
     "text": [
      "/Users/l.barabanshchikov/PycharmProjects/pythonProject/venv/lib/python3.9/site-packages/langchain_core/_api/deprecation.py:117: LangChainDeprecationWarning: The function `__call__` was deprecated in LangChain 0.1.7 and will be removed in 0.2.0. Use invoke instead.\n",
      "  warn_deprecated(\n",
      "Giga generation stopped with reason: blacklist\n",
      "Giga generation stopped with reason: length\n",
      "Giga generation stopped with reason: length\n",
      "Giga generation stopped with reason: length\n",
      "Giga generation stopped with reason: length\n",
      "Giga generation stopped with reason: length\n",
      "Giga generation stopped with reason: blacklist\n"
     ]
    }
   ],
   "source": [
    "summarized_exps = []\n",
    "\n",
    "for resume in data['resumes']:\n",
    "        exp_ = ''\n",
    "        for i in resume['experienceItem']:\n",
    "            exp_ += experienceItem_.format(\n",
    "                starts=i['starts'],\n",
    "                ends=i['ends'],\n",
    "                position=i['position'],\n",
    "                description=i['description']\n",
    "            )\n",
    "\n",
    "        messages = [\n",
    "            SystemMessage(\n",
    "                content=\"Посмотри на опыт человека как рекрутер. Суммаризуй опыт работы. Выдели ключевые достижения\"\n",
    "            ),\n",
    "            HumanMessage(content=f\"{exp_}\"),\n",
    "        ]\n",
    "\n",
    "        summarized_exp = chat(messages).content\n",
    "        \n",
    "        summarized_exps.append(summarized_exp)"
   ],
   "metadata": {
    "collapsed": false,
    "ExecuteTime": {
     "end_time": "2024-02-29T16:55:22.090525Z",
     "start_time": "2024-02-29T16:46:45.336899Z"
    }
   },
   "id": "d4166f4c1a9d3a42"
  },
  {
   "cell_type": "code",
   "execution_count": 10,
   "outputs": [
    {
     "data": {
      "text/plain": "0      Ключевые достижения:\\n- Руководство командой р...\n1      Ключевые достижения:\\n\\n1. Разработка инструме...\n2      В период с 2019 по 2022 год работал ведущим ja...\n3      Ключевые достижения:\\n- Опыт работы с различны...\n4      Период работы 2022-02-01 - None на позиции Sen...\n                             ...                        \n108    В период с 2022 по 2023 год работал Java-разра...\n109    Ключевые достижения:\\n\\n1. Разработка и поддер...\n110    В период с 2021 по None, работал на позиции Ja...\n111    В период с 2021 по 2022 год работал на позиции...\n112    В период с 2022-05-01 по настоящее время работ...\nLength: 113, dtype: object"
     },
     "execution_count": 10,
     "metadata": {},
     "output_type": "execute_result"
    }
   ],
   "source": [
    "import pandas as pd\n",
    "\n",
    "exps = pd.Series(summarized_exps)\n",
    "exps"
   ],
   "metadata": {
    "collapsed": false,
    "ExecuteTime": {
     "end_time": "2024-02-29T16:57:38.701243Z",
     "start_time": "2024-02-29T16:57:38.695136Z"
    }
   },
   "id": "89777499cac4d59f"
  },
  {
   "cell_type": "code",
   "execution_count": 12,
   "outputs": [
    {
     "data": {
      "text/plain": "<Axes: >"
     },
     "execution_count": 12,
     "metadata": {},
     "output_type": "execute_result"
    },
    {
     "data": {
      "text/plain": "<Figure size 640x480 with 1 Axes>",
      "image/png": "[encoded data removed]"
     },
     "metadata": {},
     "output_type": "display_data"
    }
   ],
   "source": [
    "exps.apply(len).hist()"
   ],
   "metadata": {
    "collapsed": false,
    "ExecuteTime": {
     "end_time": "2024-02-29T16:57:52.542380Z",
     "start_time": "2024-02-29T16:57:52.414611Z"
    }
   },
   "id": "d2a27b92abb1adf3"
  },
  {
   "cell_type": "code",
   "execution_count": 14,
   "outputs": [],
   "source": [
    "with open('summarized.json', 'w') as f:\n",
    "    json.dump(summarized_exps, f, ensure_ascii=False)"
   ],
   "metadata": {
    "collapsed": false,
    "ExecuteTime": {
     "end_time": "2024-02-29T16:58:55.848238Z",
     "start_time": "2024-02-29T16:58:55.843240Z"
    }
   },
   "id": "28f466e6bd5a7a2c"
  }
 ],
 "metadata": {
  "kernelspec": {
   "display_name": "Python 3",
   "language": "python",
   "name": "python3"
  },
  "language_info": {
   "codemirror_mode": {
    "name": "ipython",
    "version": 2
   },
   "file_extension": ".py",
   "mimetype": "text/x-python",
   "name": "python",
   "nbconvert_exporter": "python",
   "pygments_lexer": "ipython2",
   "version": "2.7.6"
  }
 },
 "nbformat": 4,
 "nbformat_minor": 5
}
